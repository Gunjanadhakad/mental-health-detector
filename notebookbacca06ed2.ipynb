{
 "cells": [
  {
   "cell_type": "code",
   "execution_count": 1,
   "id": "16d4c016",
   "metadata": {
    "_cell_guid": "b1076dfc-b9ad-4769-8c92-a6c4dae69d19",
    "_uuid": "8f2839f25d086af736a60e9eeb907d3b93b6e0e5",
    "execution": {
     "iopub.execute_input": "2023-05-17T18:26:43.505579Z",
     "iopub.status.busy": "2023-05-17T18:26:43.505188Z",
     "iopub.status.idle": "2023-05-17T18:26:43.514557Z",
     "shell.execute_reply": "2023-05-17T18:26:43.513870Z"
    },
    "papermill": {
     "duration": 0.018962,
     "end_time": "2023-05-17T18:26:43.516301",
     "exception": false,
     "start_time": "2023-05-17T18:26:43.497339",
     "status": "completed"
    },
    "tags": []
   },
   "outputs": [],
   "source": [
    "import numpy as np # linear algebra\n",
    "import pandas as pd # data processing, CSV file I/O (e.g. pd.read_csv)"
   ]
  },
  {
   "cell_type": "code",
   "execution_count": 2,
   "id": "1301c7a9",
   "metadata": {
    "execution": {
     "iopub.execute_input": "2023-05-17T18:26:43.530207Z",
     "iopub.status.busy": "2023-05-17T18:26:43.529271Z",
     "iopub.status.idle": "2023-05-17T18:26:43.559808Z",
     "shell.execute_reply": "2023-05-17T18:26:43.558335Z"
    },
    "papermill": {
     "duration": 0.040615,
     "end_time": "2023-05-17T18:26:43.562804",
     "exception": false,
     "start_time": "2023-05-17T18:26:43.522189",
     "status": "completed"
    },
    "tags": []
   },
   "outputs": [],
   "source": [
    "data_set=pd.read_csv(\"../input/student-mental-health/Student Mental health.csv\")"
   ]
  },
  {
   "cell_type": "code",
   "execution_count": 3,
   "id": "fbd32923",
   "metadata": {
    "execution": {
     "iopub.execute_input": "2023-05-17T18:26:43.577180Z",
     "iopub.status.busy": "2023-05-17T18:26:43.576480Z",
     "iopub.status.idle": "2023-05-17T18:26:43.614063Z",
     "shell.execute_reply": "2023-05-17T18:26:43.612796Z"
    },
    "papermill": {
     "duration": 0.048211,
     "end_time": "2023-05-17T18:26:43.616831",
     "exception": false,
     "start_time": "2023-05-17T18:26:43.568620",
     "status": "completed"
    },
    "tags": []
   },
   "outputs": [
    {
     "data": {
      "text/html": [
       "<div>\n",
       "<style scoped>\n",
       "    .dataframe tbody tr th:only-of-type {\n",
       "        vertical-align: middle;\n",
       "    }\n",
       "\n",
       "    .dataframe tbody tr th {\n",
       "        vertical-align: top;\n",
       "    }\n",
       "\n",
       "    .dataframe thead th {\n",
       "        text-align: right;\n",
       "    }\n",
       "</style>\n",
       "<table border=\"1\" class=\"dataframe\">\n",
       "  <thead>\n",
       "    <tr style=\"text-align: right;\">\n",
       "      <th></th>\n",
       "      <th>Timestamp</th>\n",
       "      <th>Choose your gender</th>\n",
       "      <th>Age</th>\n",
       "      <th>What is your course?</th>\n",
       "      <th>Your current year of Study</th>\n",
       "      <th>What is your CGPA?</th>\n",
       "      <th>Marital status</th>\n",
       "      <th>Do you have Depression?</th>\n",
       "      <th>Do you have Anxiety?</th>\n",
       "      <th>Do you have Panic attack?</th>\n",
       "      <th>Did you seek any specialist for a treatment?</th>\n",
       "    </tr>\n",
       "  </thead>\n",
       "  <tbody>\n",
       "    <tr>\n",
       "      <th>0</th>\n",
       "      <td>8/7/2020 12:02</td>\n",
       "      <td>Female</td>\n",
       "      <td>18.0</td>\n",
       "      <td>Engineering</td>\n",
       "      <td>year 1</td>\n",
       "      <td>3.00 - 3.49</td>\n",
       "      <td>No</td>\n",
       "      <td>Yes</td>\n",
       "      <td>No</td>\n",
       "      <td>Yes</td>\n",
       "      <td>No</td>\n",
       "    </tr>\n",
       "    <tr>\n",
       "      <th>1</th>\n",
       "      <td>8/7/2020 12:04</td>\n",
       "      <td>Male</td>\n",
       "      <td>21.0</td>\n",
       "      <td>Islamic education</td>\n",
       "      <td>year 2</td>\n",
       "      <td>3.00 - 3.49</td>\n",
       "      <td>No</td>\n",
       "      <td>No</td>\n",
       "      <td>Yes</td>\n",
       "      <td>No</td>\n",
       "      <td>No</td>\n",
       "    </tr>\n",
       "    <tr>\n",
       "      <th>2</th>\n",
       "      <td>8/7/2020 12:05</td>\n",
       "      <td>Male</td>\n",
       "      <td>19.0</td>\n",
       "      <td>BIT</td>\n",
       "      <td>Year 1</td>\n",
       "      <td>3.00 - 3.49</td>\n",
       "      <td>No</td>\n",
       "      <td>Yes</td>\n",
       "      <td>Yes</td>\n",
       "      <td>Yes</td>\n",
       "      <td>No</td>\n",
       "    </tr>\n",
       "    <tr>\n",
       "      <th>3</th>\n",
       "      <td>8/7/2020 12:06</td>\n",
       "      <td>Female</td>\n",
       "      <td>22.0</td>\n",
       "      <td>Laws</td>\n",
       "      <td>year 3</td>\n",
       "      <td>3.00 - 3.49</td>\n",
       "      <td>Yes</td>\n",
       "      <td>Yes</td>\n",
       "      <td>No</td>\n",
       "      <td>No</td>\n",
       "      <td>No</td>\n",
       "    </tr>\n",
       "    <tr>\n",
       "      <th>4</th>\n",
       "      <td>8/7/2020 12:13</td>\n",
       "      <td>Male</td>\n",
       "      <td>23.0</td>\n",
       "      <td>Mathemathics</td>\n",
       "      <td>year 4</td>\n",
       "      <td>3.00 - 3.49</td>\n",
       "      <td>No</td>\n",
       "      <td>No</td>\n",
       "      <td>No</td>\n",
       "      <td>No</td>\n",
       "      <td>No</td>\n",
       "    </tr>\n",
       "  </tbody>\n",
       "</table>\n",
       "</div>"
      ],
      "text/plain": [
       "        Timestamp Choose your gender   Age What is your course?  \\\n",
       "0  8/7/2020 12:02             Female  18.0          Engineering   \n",
       "1  8/7/2020 12:04               Male  21.0    Islamic education   \n",
       "2  8/7/2020 12:05               Male  19.0                  BIT   \n",
       "3  8/7/2020 12:06             Female  22.0                 Laws   \n",
       "4  8/7/2020 12:13               Male  23.0         Mathemathics   \n",
       "\n",
       "  Your current year of Study What is your CGPA? Marital status  \\\n",
       "0                     year 1        3.00 - 3.49             No   \n",
       "1                     year 2        3.00 - 3.49             No   \n",
       "2                     Year 1        3.00 - 3.49             No   \n",
       "3                     year 3        3.00 - 3.49            Yes   \n",
       "4                     year 4        3.00 - 3.49             No   \n",
       "\n",
       "  Do you have Depression? Do you have Anxiety? Do you have Panic attack?  \\\n",
       "0                     Yes                   No                       Yes   \n",
       "1                      No                  Yes                        No   \n",
       "2                     Yes                  Yes                       Yes   \n",
       "3                     Yes                   No                        No   \n",
       "4                      No                   No                        No   \n",
       "\n",
       "  Did you seek any specialist for a treatment?  \n",
       "0                                           No  \n",
       "1                                           No  \n",
       "2                                           No  \n",
       "3                                           No  \n",
       "4                                           No  "
      ]
     },
     "execution_count": 3,
     "metadata": {},
     "output_type": "execute_result"
    }
   ],
   "source": [
    "data_set.head()"
   ]
  },
  {
   "cell_type": "code",
   "execution_count": 4,
   "id": "dff868f6",
   "metadata": {
    "execution": {
     "iopub.execute_input": "2023-05-17T18:26:43.634165Z",
     "iopub.status.busy": "2023-05-17T18:26:43.633764Z",
     "iopub.status.idle": "2023-05-17T18:26:43.663549Z",
     "shell.execute_reply": "2023-05-17T18:26:43.662206Z"
    },
    "papermill": {
     "duration": 0.041574,
     "end_time": "2023-05-17T18:26:43.665836",
     "exception": false,
     "start_time": "2023-05-17T18:26:43.624262",
     "status": "completed"
    },
    "tags": []
   },
   "outputs": [
    {
     "name": "stdout",
     "output_type": "stream",
     "text": [
      "<class 'pandas.core.frame.DataFrame'>\n",
      "RangeIndex: 101 entries, 0 to 100\n",
      "Data columns (total 11 columns):\n",
      " #   Column                                        Non-Null Count  Dtype  \n",
      "---  ------                                        --------------  -----  \n",
      " 0   Timestamp                                     101 non-null    object \n",
      " 1   Choose your gender                            101 non-null    object \n",
      " 2   Age                                           100 non-null    float64\n",
      " 3   What is your course?                          101 non-null    object \n",
      " 4   Your current year of Study                    101 non-null    object \n",
      " 5   What is your CGPA?                            101 non-null    object \n",
      " 6   Marital status                                101 non-null    object \n",
      " 7   Do you have Depression?                       101 non-null    object \n",
      " 8   Do you have Anxiety?                          101 non-null    object \n",
      " 9   Do you have Panic attack?                     101 non-null    object \n",
      " 10  Did you seek any specialist for a treatment?  101 non-null    object \n",
      "dtypes: float64(1), object(10)\n",
      "memory usage: 8.8+ KB\n"
     ]
    }
   ],
   "source": [
    "data_set.dtypes\n",
    "data_set.info()"
   ]
  },
  {
   "cell_type": "code",
   "execution_count": 5,
   "id": "c8830d72",
   "metadata": {
    "execution": {
     "iopub.execute_input": "2023-05-17T18:26:43.680039Z",
     "iopub.status.busy": "2023-05-17T18:26:43.678782Z",
     "iopub.status.idle": "2023-05-17T18:26:43.689190Z",
     "shell.execute_reply": "2023-05-17T18:26:43.687831Z"
    },
    "papermill": {
     "duration": 0.020092,
     "end_time": "2023-05-17T18:26:43.691595",
     "exception": false,
     "start_time": "2023-05-17T18:26:43.671503",
     "status": "completed"
    },
    "tags": []
   },
   "outputs": [
    {
     "data": {
      "text/plain": [
       "Timestamp                                       0\n",
       "Choose your gender                              0\n",
       "Age                                             1\n",
       "What is your course?                            0\n",
       "Your current year of Study                      0\n",
       "What is your CGPA?                              0\n",
       "Marital status                                  0\n",
       "Do you have Depression?                         0\n",
       "Do you have Anxiety?                            0\n",
       "Do you have Panic attack?                       0\n",
       "Did you seek any specialist for a treatment?    0\n",
       "dtype: int64"
      ]
     },
     "execution_count": 5,
     "metadata": {},
     "output_type": "execute_result"
    }
   ],
   "source": [
    "#taking care of null values and replacing null with median\n",
    "data_set.isnull().sum()   "
   ]
  },
  {
   "cell_type": "code",
   "execution_count": 6,
   "id": "9551b9bd",
   "metadata": {
    "execution": {
     "iopub.execute_input": "2023-05-17T18:26:43.706081Z",
     "iopub.status.busy": "2023-05-17T18:26:43.705736Z",
     "iopub.status.idle": "2023-05-17T18:26:43.710539Z",
     "shell.execute_reply": "2023-05-17T18:26:43.709889Z"
    },
    "papermill": {
     "duration": 0.014952,
     "end_time": "2023-05-17T18:26:43.712422",
     "exception": false,
     "start_time": "2023-05-17T18:26:43.697470",
     "status": "completed"
    },
    "tags": []
   },
   "outputs": [],
   "source": [
    "data_set['Age'].fillna(data_set['Age'].mean(), inplace = True)"
   ]
  },
  {
   "cell_type": "code",
   "execution_count": 7,
   "id": "bff19113",
   "metadata": {
    "execution": {
     "iopub.execute_input": "2023-05-17T18:26:43.727241Z",
     "iopub.status.busy": "2023-05-17T18:26:43.726614Z",
     "iopub.status.idle": "2023-05-17T18:26:43.735246Z",
     "shell.execute_reply": "2023-05-17T18:26:43.734176Z"
    },
    "papermill": {
     "duration": 0.018864,
     "end_time": "2023-05-17T18:26:43.737462",
     "exception": false,
     "start_time": "2023-05-17T18:26:43.718598",
     "status": "completed"
    },
    "tags": []
   },
   "outputs": [
    {
     "data": {
      "text/plain": [
       "Timestamp                                       0\n",
       "Choose your gender                              0\n",
       "Age                                             0\n",
       "What is your course?                            0\n",
       "Your current year of Study                      0\n",
       "What is your CGPA?                              0\n",
       "Marital status                                  0\n",
       "Do you have Depression?                         0\n",
       "Do you have Anxiety?                            0\n",
       "Do you have Panic attack?                       0\n",
       "Did you seek any specialist for a treatment?    0\n",
       "dtype: int64"
      ]
     },
     "execution_count": 7,
     "metadata": {},
     "output_type": "execute_result"
    }
   ],
   "source": [
    "data_set.isnull().sum()"
   ]
  },
  {
   "cell_type": "code",
   "execution_count": 8,
   "id": "64ee6c78",
   "metadata": {
    "execution": {
     "iopub.execute_input": "2023-05-17T18:26:43.751895Z",
     "iopub.status.busy": "2023-05-17T18:26:43.751239Z",
     "iopub.status.idle": "2023-05-17T18:26:43.757794Z",
     "shell.execute_reply": "2023-05-17T18:26:43.756127Z"
    },
    "papermill": {
     "duration": 0.016891,
     "end_time": "2023-05-17T18:26:43.760518",
     "exception": false,
     "start_time": "2023-05-17T18:26:43.743627",
     "status": "completed"
    },
    "tags": []
   },
   "outputs": [
    {
     "name": "stdout",
     "output_type": "stream",
     "text": [
      "CGPA column values: ['3.00 - 3.49' '3.50 - 4.00' '3.50 - 4.00 ' '2.50 - 2.99' '2.00 - 2.49'\n",
      " '0 - 1.99']\n",
      "Year column values: ['year 1' 'year 2' 'Year 1' 'year 3' 'year 4' 'Year 2' 'Year 3']\n"
     ]
    }
   ],
   "source": [
    "#fixing duplicated data\n",
    "print(\"CGPA column values:\", data_set['What is your CGPA?'].unique())\n",
    "print(\"Year column values:\", data_set['Your current year of Study'].unique())"
   ]
  },
  {
   "cell_type": "code",
   "execution_count": 9,
   "id": "399e3836",
   "metadata": {
    "execution": {
     "iopub.execute_input": "2023-05-17T18:26:43.774681Z",
     "iopub.status.busy": "2023-05-17T18:26:43.774290Z",
     "iopub.status.idle": "2023-05-17T18:26:43.784576Z",
     "shell.execute_reply": "2023-05-17T18:26:43.782835Z"
    },
    "papermill": {
     "duration": 0.020226,
     "end_time": "2023-05-17T18:26:43.787045",
     "exception": false,
     "start_time": "2023-05-17T18:26:43.766819",
     "status": "completed"
    },
    "tags": []
   },
   "outputs": [
    {
     "name": "stdout",
     "output_type": "stream",
     "text": [
      " CGPA column values: ['3.00 - 3.49' '3.50 - 4.00' '2.50 - 2.99' '2.00 - 2.49' '0 - 1.99']\n"
     ]
    }
   ],
   "source": [
    "data_set['What is your CGPA?']=np.where(data_set['What is your CGPA?'] =='3.50 - 4.00 ', '3.50 - 4.00', data_set['What is your CGPA?'])\n",
    "print(\" CGPA column values:\", data_set['What is your CGPA?'].unique())\n"
   ]
  },
  {
   "cell_type": "code",
   "execution_count": 10,
   "id": "4aa2541a",
   "metadata": {
    "execution": {
     "iopub.execute_input": "2023-05-17T18:26:43.802777Z",
     "iopub.status.busy": "2023-05-17T18:26:43.801557Z",
     "iopub.status.idle": "2023-05-17T18:26:43.810087Z",
     "shell.execute_reply": "2023-05-17T18:26:43.809151Z"
    },
    "papermill": {
     "duration": 0.01878,
     "end_time": "2023-05-17T18:26:43.812044",
     "exception": false,
     "start_time": "2023-05-17T18:26:43.793264",
     "status": "completed"
    },
    "tags": []
   },
   "outputs": [
    {
     "name": "stdout",
     "output_type": "stream",
     "text": [
      "column values: ['year 1' 'year 2' 'year 3' 'year 4']\n"
     ]
    }
   ],
   "source": [
    "data_set['Your current year of Study']=np.where(data_set['Your current year of Study'] =='Year 1', 'year 1', data_set['Your current year of Study'])\n",
    "data_set['Your current year of Study']=np.where(data_set['Your current year of Study'] =='Year 2', 'year 2', data_set['Your current year of Study'])\n",
    "data_set['Your current year of Study']=np.where(data_set['Your current year of Study'] =='Year 3', 'year 3', data_set['Your current year of Study'])\n",
    "\n",
    "print(\"column values:\", data_set['Your current year of Study'].unique())"
   ]
  },
  {
   "cell_type": "code",
   "execution_count": 11,
   "id": "6365ac85",
   "metadata": {
    "execution": {
     "iopub.execute_input": "2023-05-17T18:26:43.827238Z",
     "iopub.status.busy": "2023-05-17T18:26:43.825803Z",
     "iopub.status.idle": "2023-05-17T18:26:43.832168Z",
     "shell.execute_reply": "2023-05-17T18:26:43.831422Z"
    },
    "papermill": {
     "duration": 0.015822,
     "end_time": "2023-05-17T18:26:43.834117",
     "exception": false,
     "start_time": "2023-05-17T18:26:43.818295",
     "status": "completed"
    },
    "tags": []
   },
   "outputs": [],
   "source": [
    "train_data= data_set.copy()"
   ]
  },
  {
   "cell_type": "code",
   "execution_count": 12,
   "id": "279b05ae",
   "metadata": {
    "execution": {
     "iopub.execute_input": "2023-05-17T18:26:43.848634Z",
     "iopub.status.busy": "2023-05-17T18:26:43.847626Z",
     "iopub.status.idle": "2023-05-17T18:26:43.867296Z",
     "shell.execute_reply": "2023-05-17T18:26:43.866112Z"
    },
    "papermill": {
     "duration": 0.028815,
     "end_time": "2023-05-17T18:26:43.869304",
     "exception": false,
     "start_time": "2023-05-17T18:26:43.840489",
     "status": "completed"
    },
    "tags": []
   },
   "outputs": [
    {
     "data": {
      "text/html": [
       "<div>\n",
       "<style scoped>\n",
       "    .dataframe tbody tr th:only-of-type {\n",
       "        vertical-align: middle;\n",
       "    }\n",
       "\n",
       "    .dataframe tbody tr th {\n",
       "        vertical-align: top;\n",
       "    }\n",
       "\n",
       "    .dataframe thead th {\n",
       "        text-align: right;\n",
       "    }\n",
       "</style>\n",
       "<table border=\"1\" class=\"dataframe\">\n",
       "  <thead>\n",
       "    <tr style=\"text-align: right;\">\n",
       "      <th></th>\n",
       "      <th>timestamp</th>\n",
       "      <th>gender</th>\n",
       "      <th>age</th>\n",
       "      <th>course</th>\n",
       "      <th>year</th>\n",
       "      <th>cgpa</th>\n",
       "      <th>marital_status</th>\n",
       "      <th>depression_status</th>\n",
       "      <th>Exercise</th>\n",
       "      <th>Family_history_of_mental_disorders</th>\n",
       "      <th>Medical_attention_required</th>\n",
       "    </tr>\n",
       "  </thead>\n",
       "  <tbody>\n",
       "    <tr>\n",
       "      <th>0</th>\n",
       "      <td>8/7/2020 12:02</td>\n",
       "      <td>Female</td>\n",
       "      <td>18.0</td>\n",
       "      <td>Engineering</td>\n",
       "      <td>year 1</td>\n",
       "      <td>3.00 - 3.49</td>\n",
       "      <td>No</td>\n",
       "      <td>Yes</td>\n",
       "      <td>No</td>\n",
       "      <td>Yes</td>\n",
       "      <td>No</td>\n",
       "    </tr>\n",
       "    <tr>\n",
       "      <th>1</th>\n",
       "      <td>8/7/2020 12:04</td>\n",
       "      <td>Male</td>\n",
       "      <td>21.0</td>\n",
       "      <td>Islamic education</td>\n",
       "      <td>year 2</td>\n",
       "      <td>3.00 - 3.49</td>\n",
       "      <td>No</td>\n",
       "      <td>No</td>\n",
       "      <td>Yes</td>\n",
       "      <td>No</td>\n",
       "      <td>No</td>\n",
       "    </tr>\n",
       "    <tr>\n",
       "      <th>2</th>\n",
       "      <td>8/7/2020 12:05</td>\n",
       "      <td>Male</td>\n",
       "      <td>19.0</td>\n",
       "      <td>BIT</td>\n",
       "      <td>year 1</td>\n",
       "      <td>3.00 - 3.49</td>\n",
       "      <td>No</td>\n",
       "      <td>Yes</td>\n",
       "      <td>Yes</td>\n",
       "      <td>Yes</td>\n",
       "      <td>No</td>\n",
       "    </tr>\n",
       "    <tr>\n",
       "      <th>3</th>\n",
       "      <td>8/7/2020 12:06</td>\n",
       "      <td>Female</td>\n",
       "      <td>22.0</td>\n",
       "      <td>Laws</td>\n",
       "      <td>year 3</td>\n",
       "      <td>3.00 - 3.49</td>\n",
       "      <td>Yes</td>\n",
       "      <td>Yes</td>\n",
       "      <td>No</td>\n",
       "      <td>No</td>\n",
       "      <td>No</td>\n",
       "    </tr>\n",
       "    <tr>\n",
       "      <th>4</th>\n",
       "      <td>8/7/2020 12:13</td>\n",
       "      <td>Male</td>\n",
       "      <td>23.0</td>\n",
       "      <td>Mathemathics</td>\n",
       "      <td>year 4</td>\n",
       "      <td>3.00 - 3.49</td>\n",
       "      <td>No</td>\n",
       "      <td>No</td>\n",
       "      <td>No</td>\n",
       "      <td>No</td>\n",
       "      <td>No</td>\n",
       "    </tr>\n",
       "  </tbody>\n",
       "</table>\n",
       "</div>"
      ],
      "text/plain": [
       "        timestamp  gender   age             course    year         cgpa  \\\n",
       "0  8/7/2020 12:02  Female  18.0        Engineering  year 1  3.00 - 3.49   \n",
       "1  8/7/2020 12:04    Male  21.0  Islamic education  year 2  3.00 - 3.49   \n",
       "2  8/7/2020 12:05    Male  19.0                BIT  year 1  3.00 - 3.49   \n",
       "3  8/7/2020 12:06  Female  22.0               Laws  year 3  3.00 - 3.49   \n",
       "4  8/7/2020 12:13    Male  23.0       Mathemathics  year 4  3.00 - 3.49   \n",
       "\n",
       "  marital_status depression_status Exercise  \\\n",
       "0             No               Yes       No   \n",
       "1             No                No      Yes   \n",
       "2             No               Yes      Yes   \n",
       "3            Yes               Yes       No   \n",
       "4             No                No       No   \n",
       "\n",
       "  Family_history_of_mental_disorders Medical_attention_required  \n",
       "0                                Yes                         No  \n",
       "1                                 No                         No  \n",
       "2                                Yes                         No  \n",
       "3                                 No                         No  \n",
       "4                                 No                         No  "
      ]
     },
     "execution_count": 12,
     "metadata": {},
     "output_type": "execute_result"
    }
   ],
   "source": [
    "#transforming data to the required needs\n",
    "train_data.rename(columns = {'Choose your gender': 'gender', \n",
    "                     'Do you have Depression?': 'depression_status',\n",
    "                     'Do you have Panic attack?': 'Family_history_of_mental_disorders',\n",
    "                     'Do you have Anxiety?': 'Exercise',\n",
    "                     'Timestamp': 'timestamp',\n",
    "                     'What is your CGPA?': 'cgpa',\n",
    "                     'Age': 'age',\n",
    "                     'What is your course?': 'course',\n",
    "                     'Your current year of Study': 'year',\n",
    "                     'Marital status': 'marital_status',\n",
    "                     'Did you seek any specialist for a treatment?': 'Medical_attention_required'}, inplace = True)\n",
    "train_data.head()"
   ]
  },
  {
   "cell_type": "code",
   "execution_count": 13,
   "id": "f6623ca1",
   "metadata": {
    "execution": {
     "iopub.execute_input": "2023-05-17T18:26:43.884089Z",
     "iopub.status.busy": "2023-05-17T18:26:43.883442Z",
     "iopub.status.idle": "2023-05-17T18:26:43.917177Z",
     "shell.execute_reply": "2023-05-17T18:26:43.915436Z"
    },
    "papermill": {
     "duration": 0.044858,
     "end_time": "2023-05-17T18:26:43.920352",
     "exception": false,
     "start_time": "2023-05-17T18:26:43.875494",
     "status": "completed"
    },
    "tags": []
   },
   "outputs": [
    {
     "data": {
      "text/html": [
       "<div>\n",
       "<style scoped>\n",
       "    .dataframe tbody tr th:only-of-type {\n",
       "        vertical-align: middle;\n",
       "    }\n",
       "\n",
       "    .dataframe tbody tr th {\n",
       "        vertical-align: top;\n",
       "    }\n",
       "\n",
       "    .dataframe thead th {\n",
       "        text-align: right;\n",
       "    }\n",
       "</style>\n",
       "<table border=\"1\" class=\"dataframe\">\n",
       "  <thead>\n",
       "    <tr style=\"text-align: right;\">\n",
       "      <th></th>\n",
       "      <th>gender</th>\n",
       "      <th>age</th>\n",
       "      <th>depression_status</th>\n",
       "      <th>Exercise</th>\n",
       "      <th>Family_history_of_mental_disorders</th>\n",
       "      <th>Medical_attention_required</th>\n",
       "      <th>cgpa_0 - 1.99</th>\n",
       "      <th>cgpa_2.00 - 2.49</th>\n",
       "      <th>cgpa_2.50 - 2.99</th>\n",
       "      <th>cgpa_3.00 - 3.49</th>\n",
       "      <th>cgpa_3.50 - 4.00</th>\n",
       "      <th>year_year 1</th>\n",
       "      <th>year_year 2</th>\n",
       "      <th>year_year 3</th>\n",
       "      <th>year_year 4</th>\n",
       "    </tr>\n",
       "  </thead>\n",
       "  <tbody>\n",
       "    <tr>\n",
       "      <th>0</th>\n",
       "      <td>1</td>\n",
       "      <td>18.0</td>\n",
       "      <td>1</td>\n",
       "      <td>1</td>\n",
       "      <td>1</td>\n",
       "      <td>0</td>\n",
       "      <td>0</td>\n",
       "      <td>0</td>\n",
       "      <td>0</td>\n",
       "      <td>1</td>\n",
       "      <td>0</td>\n",
       "      <td>1</td>\n",
       "      <td>0</td>\n",
       "      <td>0</td>\n",
       "      <td>0</td>\n",
       "    </tr>\n",
       "    <tr>\n",
       "      <th>1</th>\n",
       "      <td>0</td>\n",
       "      <td>21.0</td>\n",
       "      <td>0</td>\n",
       "      <td>0</td>\n",
       "      <td>0</td>\n",
       "      <td>0</td>\n",
       "      <td>0</td>\n",
       "      <td>0</td>\n",
       "      <td>0</td>\n",
       "      <td>1</td>\n",
       "      <td>0</td>\n",
       "      <td>0</td>\n",
       "      <td>1</td>\n",
       "      <td>0</td>\n",
       "      <td>0</td>\n",
       "    </tr>\n",
       "    <tr>\n",
       "      <th>2</th>\n",
       "      <td>0</td>\n",
       "      <td>19.0</td>\n",
       "      <td>1</td>\n",
       "      <td>0</td>\n",
       "      <td>1</td>\n",
       "      <td>0</td>\n",
       "      <td>0</td>\n",
       "      <td>0</td>\n",
       "      <td>0</td>\n",
       "      <td>1</td>\n",
       "      <td>0</td>\n",
       "      <td>1</td>\n",
       "      <td>0</td>\n",
       "      <td>0</td>\n",
       "      <td>0</td>\n",
       "    </tr>\n",
       "    <tr>\n",
       "      <th>3</th>\n",
       "      <td>1</td>\n",
       "      <td>22.0</td>\n",
       "      <td>1</td>\n",
       "      <td>1</td>\n",
       "      <td>0</td>\n",
       "      <td>0</td>\n",
       "      <td>0</td>\n",
       "      <td>0</td>\n",
       "      <td>0</td>\n",
       "      <td>1</td>\n",
       "      <td>0</td>\n",
       "      <td>0</td>\n",
       "      <td>0</td>\n",
       "      <td>1</td>\n",
       "      <td>0</td>\n",
       "    </tr>\n",
       "    <tr>\n",
       "      <th>4</th>\n",
       "      <td>0</td>\n",
       "      <td>23.0</td>\n",
       "      <td>0</td>\n",
       "      <td>1</td>\n",
       "      <td>0</td>\n",
       "      <td>0</td>\n",
       "      <td>0</td>\n",
       "      <td>0</td>\n",
       "      <td>0</td>\n",
       "      <td>1</td>\n",
       "      <td>0</td>\n",
       "      <td>0</td>\n",
       "      <td>0</td>\n",
       "      <td>0</td>\n",
       "      <td>1</td>\n",
       "    </tr>\n",
       "  </tbody>\n",
       "</table>\n",
       "</div>"
      ],
      "text/plain": [
       "   gender   age  depression_status  Exercise  \\\n",
       "0       1  18.0                  1         1   \n",
       "1       0  21.0                  0         0   \n",
       "2       0  19.0                  1         0   \n",
       "3       1  22.0                  1         1   \n",
       "4       0  23.0                  0         1   \n",
       "\n",
       "   Family_history_of_mental_disorders  Medical_attention_required  \\\n",
       "0                                   1                           0   \n",
       "1                                   0                           0   \n",
       "2                                   1                           0   \n",
       "3                                   0                           0   \n",
       "4                                   0                           0   \n",
       "\n",
       "   cgpa_0 - 1.99  cgpa_2.00 - 2.49  cgpa_2.50 - 2.99  cgpa_3.00 - 3.49  \\\n",
       "0              0                 0                 0                 1   \n",
       "1              0                 0                 0                 1   \n",
       "2              0                 0                 0                 1   \n",
       "3              0                 0                 0                 1   \n",
       "4              0                 0                 0                 1   \n",
       "\n",
       "   cgpa_3.50 - 4.00  year_year 1  year_year 2  year_year 3  year_year 4  \n",
       "0                 0            1            0            0            0  \n",
       "1                 0            0            1            0            0  \n",
       "2                 0            1            0            0            0  \n",
       "3                 0            0            0            1            0  \n",
       "4                 0            0            0            0            1  "
      ]
     },
     "execution_count": 13,
     "metadata": {},
     "output_type": "execute_result"
    }
   ],
   "source": [
    "#dropping unused columns and encoding classification data\n",
    "training=pd.get_dummies(train_data, columns=[\"cgpa\",\"year\"])\n",
    "training.Exercise.replace(('Yes', 'No'), (0, 1), inplace=True)\n",
    "training.Family_history_of_mental_disorders.replace(('Yes', 'No'), (1,0), inplace=True)\n",
    "training.Medical_attention_required.replace(('Yes', 'No'), (1, 0), inplace=True)\n",
    "training.gender.replace(('Female', 'Male'), (1, 0), inplace=True)\n",
    "training.depression_status.replace(('Yes', 'No'), (1, 0), inplace=True)\n",
    "training.drop('timestamp', axis=1, inplace=True)\n",
    "training.drop('course', axis=1, inplace=True)\n",
    "training.drop('marital_status', axis=1, inplace=True)\n",
    "training.head()"
   ]
  },
  {
   "cell_type": "code",
   "execution_count": 14,
   "id": "0ba445bd",
   "metadata": {
    "execution": {
     "iopub.execute_input": "2023-05-17T18:26:43.936450Z",
     "iopub.status.busy": "2023-05-17T18:26:43.935419Z",
     "iopub.status.idle": "2023-05-17T18:26:43.949856Z",
     "shell.execute_reply": "2023-05-17T18:26:43.948752Z"
    },
    "papermill": {
     "duration": 0.024789,
     "end_time": "2023-05-17T18:26:43.952084",
     "exception": false,
     "start_time": "2023-05-17T18:26:43.927295",
     "status": "completed"
    },
    "tags": []
   },
   "outputs": [
    {
     "name": "stdout",
     "output_type": "stream",
     "text": [
      "<class 'pandas.core.frame.DataFrame'>\n",
      "RangeIndex: 101 entries, 0 to 100\n",
      "Data columns (total 15 columns):\n",
      " #   Column                              Non-Null Count  Dtype  \n",
      "---  ------                              --------------  -----  \n",
      " 0   gender                              101 non-null    int64  \n",
      " 1   age                                 101 non-null    float64\n",
      " 2   depression_status                   101 non-null    int64  \n",
      " 3   Exercise                            101 non-null    int64  \n",
      " 4   Family_history_of_mental_disorders  101 non-null    int64  \n",
      " 5   Medical_attention_required          101 non-null    int64  \n",
      " 6   cgpa_0 - 1.99                       101 non-null    uint8  \n",
      " 7   cgpa_2.00 - 2.49                    101 non-null    uint8  \n",
      " 8   cgpa_2.50 - 2.99                    101 non-null    uint8  \n",
      " 9   cgpa_3.00 - 3.49                    101 non-null    uint8  \n",
      " 10  cgpa_3.50 - 4.00                    101 non-null    uint8  \n",
      " 11  year_year 1                         101 non-null    uint8  \n",
      " 12  year_year 2                         101 non-null    uint8  \n",
      " 13  year_year 3                         101 non-null    uint8  \n",
      " 14  year_year 4                         101 non-null    uint8  \n",
      "dtypes: float64(1), int64(5), uint8(9)\n",
      "memory usage: 5.7 KB\n"
     ]
    }
   ],
   "source": [
    "training.info()"
   ]
  },
  {
   "cell_type": "code",
   "execution_count": 15,
   "id": "536eebb7",
   "metadata": {
    "execution": {
     "iopub.execute_input": "2023-05-17T18:26:43.968000Z",
     "iopub.status.busy": "2023-05-17T18:26:43.967351Z",
     "iopub.status.idle": "2023-05-17T18:26:45.444149Z",
     "shell.execute_reply": "2023-05-17T18:26:45.443119Z"
    },
    "papermill": {
     "duration": 1.487072,
     "end_time": "2023-05-17T18:26:45.446233",
     "exception": false,
     "start_time": "2023-05-17T18:26:43.959161",
     "status": "completed"
    },
    "tags": []
   },
   "outputs": [
    {
     "name": "stderr",
     "output_type": "stream",
     "text": [
      "/opt/conda/lib/python3.10/site-packages/scipy/__init__.py:146: UserWarning: A NumPy version >=1.16.5 and <1.23.0 is required for this version of SciPy (detected version 1.23.5\n",
      "  warnings.warn(f\"A NumPy version >={np_minversion} and <{np_maxversion}\"\n"
     ]
    },
    {
     "name": "stdout",
     "output_type": "stream",
     "text": [
      "Row in train set=80\n",
      "Row in test set=21\n"
     ]
    },
    {
     "data": {
      "text/html": [
       "<div>\n",
       "<style scoped>\n",
       "    .dataframe tbody tr th:only-of-type {\n",
       "        vertical-align: middle;\n",
       "    }\n",
       "\n",
       "    .dataframe tbody tr th {\n",
       "        vertical-align: top;\n",
       "    }\n",
       "\n",
       "    .dataframe thead th {\n",
       "        text-align: right;\n",
       "    }\n",
       "</style>\n",
       "<table border=\"1\" class=\"dataframe\">\n",
       "  <thead>\n",
       "    <tr style=\"text-align: right;\">\n",
       "      <th></th>\n",
       "      <th>gender</th>\n",
       "      <th>age</th>\n",
       "      <th>depression_status</th>\n",
       "      <th>Exercise</th>\n",
       "      <th>Family_history_of_mental_disorders</th>\n",
       "      <th>Medical_attention_required</th>\n",
       "      <th>cgpa_0 - 1.99</th>\n",
       "      <th>cgpa_2.00 - 2.49</th>\n",
       "      <th>cgpa_2.50 - 2.99</th>\n",
       "      <th>cgpa_3.00 - 3.49</th>\n",
       "      <th>cgpa_3.50 - 4.00</th>\n",
       "      <th>year_year 1</th>\n",
       "      <th>year_year 2</th>\n",
       "      <th>year_year 3</th>\n",
       "      <th>year_year 4</th>\n",
       "    </tr>\n",
       "  </thead>\n",
       "  <tbody>\n",
       "    <tr>\n",
       "      <th>89</th>\n",
       "      <td>0</td>\n",
       "      <td>24.0</td>\n",
       "      <td>0</td>\n",
       "      <td>1</td>\n",
       "      <td>1</td>\n",
       "      <td>0</td>\n",
       "      <td>0</td>\n",
       "      <td>1</td>\n",
       "      <td>0</td>\n",
       "      <td>0</td>\n",
       "      <td>0</td>\n",
       "      <td>0</td>\n",
       "      <td>1</td>\n",
       "      <td>0</td>\n",
       "      <td>0</td>\n",
       "    </tr>\n",
       "    <tr>\n",
       "      <th>26</th>\n",
       "      <td>1</td>\n",
       "      <td>19.0</td>\n",
       "      <td>0</td>\n",
       "      <td>1</td>\n",
       "      <td>0</td>\n",
       "      <td>0</td>\n",
       "      <td>0</td>\n",
       "      <td>0</td>\n",
       "      <td>0</td>\n",
       "      <td>0</td>\n",
       "      <td>1</td>\n",
       "      <td>1</td>\n",
       "      <td>0</td>\n",
       "      <td>0</td>\n",
       "      <td>0</td>\n",
       "    </tr>\n",
       "    <tr>\n",
       "      <th>42</th>\n",
       "      <td>1</td>\n",
       "      <td>20.0</td>\n",
       "      <td>1</td>\n",
       "      <td>1</td>\n",
       "      <td>0</td>\n",
       "      <td>0</td>\n",
       "      <td>0</td>\n",
       "      <td>0</td>\n",
       "      <td>0</td>\n",
       "      <td>1</td>\n",
       "      <td>0</td>\n",
       "      <td>0</td>\n",
       "      <td>1</td>\n",
       "      <td>0</td>\n",
       "      <td>0</td>\n",
       "    </tr>\n",
       "    <tr>\n",
       "      <th>70</th>\n",
       "      <td>1</td>\n",
       "      <td>24.0</td>\n",
       "      <td>0</td>\n",
       "      <td>1</td>\n",
       "      <td>0</td>\n",
       "      <td>0</td>\n",
       "      <td>0</td>\n",
       "      <td>0</td>\n",
       "      <td>0</td>\n",
       "      <td>1</td>\n",
       "      <td>0</td>\n",
       "      <td>1</td>\n",
       "      <td>0</td>\n",
       "      <td>0</td>\n",
       "      <td>0</td>\n",
       "    </tr>\n",
       "    <tr>\n",
       "      <th>15</th>\n",
       "      <td>0</td>\n",
       "      <td>24.0</td>\n",
       "      <td>0</td>\n",
       "      <td>1</td>\n",
       "      <td>0</td>\n",
       "      <td>0</td>\n",
       "      <td>0</td>\n",
       "      <td>0</td>\n",
       "      <td>0</td>\n",
       "      <td>0</td>\n",
       "      <td>1</td>\n",
       "      <td>0</td>\n",
       "      <td>0</td>\n",
       "      <td>1</td>\n",
       "      <td>0</td>\n",
       "    </tr>\n",
       "  </tbody>\n",
       "</table>\n",
       "</div>"
      ],
      "text/plain": [
       "    gender   age  depression_status  Exercise  \\\n",
       "89       0  24.0                  0         1   \n",
       "26       1  19.0                  0         1   \n",
       "42       1  20.0                  1         1   \n",
       "70       1  24.0                  0         1   \n",
       "15       0  24.0                  0         1   \n",
       "\n",
       "    Family_history_of_mental_disorders  Medical_attention_required  \\\n",
       "89                                   1                           0   \n",
       "26                                   0                           0   \n",
       "42                                   0                           0   \n",
       "70                                   0                           0   \n",
       "15                                   0                           0   \n",
       "\n",
       "    cgpa_0 - 1.99  cgpa_2.00 - 2.49  cgpa_2.50 - 2.99  cgpa_3.00 - 3.49  \\\n",
       "89              0                 1                 0                 0   \n",
       "26              0                 0                 0                 0   \n",
       "42              0                 0                 0                 1   \n",
       "70              0                 0                 0                 1   \n",
       "15              0                 0                 0                 0   \n",
       "\n",
       "    cgpa_3.50 - 4.00  year_year 1  year_year 2  year_year 3  year_year 4  \n",
       "89                 0            0            1            0            0  \n",
       "26                 1            1            0            0            0  \n",
       "42                 0            0            1            0            0  \n",
       "70                 0            1            0            0            0  \n",
       "15                 1            0            0            1            0  "
      ]
     },
     "execution_count": 15,
     "metadata": {},
     "output_type": "execute_result"
    }
   ],
   "source": [
    "#spliting data set into training and test set\n",
    "from sklearn.model_selection import train_test_split\n",
    "train_set,test_set=train_test_split(training,test_size=0.2,random_state=42)\n",
    "print(f\"Row in train set={len(train_set)}\\nRow in test set={len(test_set)}\")\n",
    "train_set.head()"
   ]
  },
  {
   "cell_type": "code",
   "execution_count": 16,
   "id": "975f2973",
   "metadata": {
    "execution": {
     "iopub.execute_input": "2023-05-17T18:26:45.463691Z",
     "iopub.status.busy": "2023-05-17T18:26:45.463044Z",
     "iopub.status.idle": "2023-05-17T18:26:45.802864Z",
     "shell.execute_reply": "2023-05-17T18:26:45.801572Z"
    },
    "papermill": {
     "duration": 0.351211,
     "end_time": "2023-05-17T18:26:45.805490",
     "exception": false,
     "start_time": "2023-05-17T18:26:45.454279",
     "status": "completed"
    },
    "tags": []
   },
   "outputs": [
    {
     "data": {
      "text/plain": [
       "Text(0, 0.5, 'Proportion of Students')"
      ]
     },
     "execution_count": 16,
     "metadata": {},
     "output_type": "execute_result"
    },
    {
     "data": {
      "image/png": "[encoded data removed]",
      "text/plain": [
       "<Figure size 640x480 with 1 Axes>"
      ]
     },
     "metadata": {},
     "output_type": "display_data"
    }
   ],
   "source": [
    "#analysing given data set\n",
    "import matplotlib.pyplot as plt \n",
    "table=pd.crosstab(train_data['cgpa'],train_data['depression_status'])\n",
    "table.div(table.sum(1).astype(float), axis=0).plot(kind='bar', stacked=True)\n",
    "plt.title('Stacked Bar Chart of Depression Status vs CGPA')\n",
    "plt.xlabel('CGPA of Students')\n",
    "plt.ylabel('Proportion of Students')\n"
   ]
  },
  {
   "cell_type": "code",
   "execution_count": 17,
   "id": "675686ca",
   "metadata": {
    "execution": {
     "iopub.execute_input": "2023-05-17T18:26:45.822632Z",
     "iopub.status.busy": "2023-05-17T18:26:45.822219Z",
     "iopub.status.idle": "2023-05-17T18:26:46.067072Z",
     "shell.execute_reply": "2023-05-17T18:26:46.065598Z"
    },
    "papermill": {
     "duration": 0.256329,
     "end_time": "2023-05-17T18:26:46.069524",
     "exception": false,
     "start_time": "2023-05-17T18:26:45.813195",
     "status": "completed"
    },
    "tags": []
   },
   "outputs": [
    {
     "data": {
      "text/plain": [
       "Text(0, 0.5, 'Proportion of Students')"
      ]
     },
     "execution_count": 17,
     "metadata": {},
     "output_type": "execute_result"
    },
    {
     "data": {
      "image/png": "[encoded data removed]",
      "text/plain": [
       "<Figure size 640x480 with 1 Axes>"
      ]
     },
     "metadata": {},
     "output_type": "display_data"
    }
   ],
   "source": [
    "table=pd.crosstab(train_data['Family_history_of_mental_disorders'],train_data['Medical_attention_required'])\n",
    "table.div(table.sum(1).astype(float), axis=0).plot(kind='bar', stacked=True)\n",
    "plt.title('Stacked Bar Chart of Family history of mental disorders vs Medical_attention_required')\n",
    "plt.xlabel('Family history of mental disorders of Students')\n",
    "plt.ylabel('Proportion of Students')"
   ]
  },
  {
   "cell_type": "code",
   "execution_count": 18,
   "id": "ff9549b5",
   "metadata": {
    "execution": {
     "iopub.execute_input": "2023-05-17T18:26:46.087919Z",
     "iopub.status.busy": "2023-05-17T18:26:46.086538Z",
     "iopub.status.idle": "2023-05-17T18:26:46.368283Z",
     "shell.execute_reply": "2023-05-17T18:26:46.366714Z"
    },
    "papermill": {
     "duration": 0.29322,
     "end_time": "2023-05-17T18:26:46.370733",
     "exception": false,
     "start_time": "2023-05-17T18:26:46.077513",
     "status": "completed"
    },
    "tags": []
   },
   "outputs": [
    {
     "data": {
      "text/plain": [
       "Text(0, 0.5, 'Proportion of Students')"
      ]
     },
     "execution_count": 18,
     "metadata": {},
     "output_type": "execute_result"
    },
    {
     "data": {
      "image/png": "[encoded data removed]",
      "text/plain": [
       "<Figure size 640x480 with 1 Axes>"
      ]
     },
     "metadata": {},
     "output_type": "display_data"
    }
   ],
   "source": [
    "table=pd.crosstab(train_data['cgpa'],train_data['year'])\n",
    "table.div(table.sum(1).astype(float), axis=0).plot(kind='bar', stacked=True)\n",
    "plt.title('Stacked Bar Chart of Year of study vs CGPA')\n",
    "plt.xlabel('CGPA of Students')\n",
    "plt.ylabel('Proportion of Students')"
   ]
  },
  {
   "cell_type": "code",
   "execution_count": 19,
   "id": "e11e630a",
   "metadata": {
    "execution": {
     "iopub.execute_input": "2023-05-17T18:26:46.390692Z",
     "iopub.status.busy": "2023-05-17T18:26:46.390274Z",
     "iopub.status.idle": "2023-05-17T18:26:46.646863Z",
     "shell.execute_reply": "2023-05-17T18:26:46.644987Z"
    },
    "papermill": {
     "duration": 0.269844,
     "end_time": "2023-05-17T18:26:46.649457",
     "exception": false,
     "start_time": "2023-05-17T18:26:46.379613",
     "status": "completed"
    },
    "tags": []
   },
   "outputs": [
    {
     "data": {
      "text/plain": [
       "Text(0, 0.5, 'Proportion of Students')"
      ]
     },
     "execution_count": 19,
     "metadata": {},
     "output_type": "execute_result"
    },
    {
     "data": {
      "image/png": "[encoded data removed]",
      "text/plain": [
       "<Figure size 640x480 with 1 Axes>"
      ]
     },
     "metadata": {},
     "output_type": "display_data"
    }
   ],
   "source": [
    "table=pd.crosstab(train_data['cgpa'],train_data['depression_status'])\n",
    "table.div(table.sum(1).astype(float), axis=0).plot(kind='bar', stacked=True)\n",
    "plt.title('Stacked Bar Chart of Gender vs CGPA')\n",
    "plt.xlabel('CGPA of Students')\n",
    "plt.ylabel('Proportion of Students')"
   ]
  },
  {
   "cell_type": "code",
   "execution_count": 20,
   "id": "a18bebf9",
   "metadata": {
    "execution": {
     "iopub.execute_input": "2023-05-17T18:26:46.671184Z",
     "iopub.status.busy": "2023-05-17T18:26:46.670716Z",
     "iopub.status.idle": "2023-05-17T18:26:46.681090Z",
     "shell.execute_reply": "2023-05-17T18:26:46.679626Z"
    },
    "papermill": {
     "duration": 0.024593,
     "end_time": "2023-05-17T18:26:46.683622",
     "exception": false,
     "start_time": "2023-05-17T18:26:46.659029",
     "status": "completed"
    },
    "tags": []
   },
   "outputs": [],
   "source": [
    "#creatin data sets for predications\n",
    "train_setX=train_set.drop(\"Medical_attention_required\",axis=1)\n",
    "train_sety=train_set[\"Medical_attention_required\"].copy()\n",
    "test_setX=test_set.drop(\"Medical_attention_required\",axis=1)\n",
    "test_sety=test_set[\"Medical_attention_required\"].copy()"
   ]
  },
  {
   "cell_type": "code",
   "execution_count": 21,
   "id": "286b2bcd",
   "metadata": {
    "execution": {
     "iopub.execute_input": "2023-05-17T18:26:46.707061Z",
     "iopub.status.busy": "2023-05-17T18:26:46.706586Z",
     "iopub.status.idle": "2023-05-17T18:26:46.849491Z",
     "shell.execute_reply": "2023-05-17T18:26:46.848487Z"
    },
    "papermill": {
     "duration": 0.158327,
     "end_time": "2023-05-17T18:26:46.852032",
     "exception": false,
     "start_time": "2023-05-17T18:26:46.693705",
     "status": "completed"
    },
    "tags": []
   },
   "outputs": [],
   "source": [
    "#choosing the model\n",
    "from sklearn.linear_model import LogisticRegression\n",
    "model=LogisticRegression()"
   ]
  },
  {
   "cell_type": "code",
   "execution_count": 22,
   "id": "78bec4ab",
   "metadata": {
    "execution": {
     "iopub.execute_input": "2023-05-17T18:26:46.872511Z",
     "iopub.status.busy": "2023-05-17T18:26:46.872162Z",
     "iopub.status.idle": "2023-05-17T18:26:46.904596Z",
     "shell.execute_reply": "2023-05-17T18:26:46.903449Z"
    },
    "papermill": {
     "duration": 0.045468,
     "end_time": "2023-05-17T18:26:46.907041",
     "exception": false,
     "start_time": "2023-05-17T18:26:46.861573",
     "status": "completed"
    },
    "tags": []
   },
   "outputs": [
    {
     "data": {
      "text/html": [
       "<style>#sk-container-id-1 {color: black;background-color: white;}#sk-container-id-1 pre{padding: 0;}#sk-container-id-1 div.sk-toggleable {background-color: white;}#sk-container-id-1 label.sk-toggleable__label {cursor: pointer;display: block;width: 100%;margin-bottom: 0;padding: 0.3em;box-sizing: border-box;text-align: center;}#sk-container-id-1 label.sk-toggleable__label-arrow:before {content: \"▸\";float: left;margin-right: 0.25em;color: #696969;}#sk-container-id-1 label.sk-toggleable__label-arrow:hover:before {color: black;}#sk-container-id-1 div.sk-estimator:hover label.sk-toggleable__label-arrow:before {color: black;}#sk-container-id-1 div.sk-toggleable__content {max-height: 0;max-width: 0;overflow: hidden;text-align: left;background-color: #f0f8ff;}#sk-container-id-1 div.sk-toggleable__content pre {margin: 0.2em;color: black;border-radius: 0.25em;background-color: #f0f8ff;}#sk-container-id-1 input.sk-toggleable__control:checked~div.sk-toggleable__content {max-height: 200px;max-width: 100%;overflow: auto;}#sk-container-id-1 input.sk-toggleable__control:checked~label.sk-toggleable__label-arrow:before {content: \"▾\";}#sk-container-id-1 div.sk-estimator input.sk-toggleable__control:checked~label.sk-toggleable__label {background-color: #d4ebff;}#sk-container-id-1 div.sk-label input.sk-toggleable__control:checked~label.sk-toggleable__label {background-color: #d4ebff;}#sk-container-id-1 input.sk-hidden--visually {border: 0;clip: rect(1px 1px 1px 1px);clip: rect(1px, 1px, 1px, 1px);height: 1px;margin: -1px;overflow: hidden;padding: 0;position: absolute;width: 1px;}#sk-container-id-1 div.sk-estimator {font-family: monospace;background-color: #f0f8ff;border: 1px dotted black;border-radius: 0.25em;box-sizing: border-box;margin-bottom: 0.5em;}#sk-container-id-1 div.sk-estimator:hover {background-color: #d4ebff;}#sk-container-id-1 div.sk-parallel-item::after {content: \"\";width: 100%;border-bottom: 1px solid gray;flex-grow: 1;}#sk-container-id-1 div.sk-label:hover label.sk-toggleable__label {background-color: #d4ebff;}#sk-container-id-1 div.sk-serial::before {content: \"\";position: absolute;border-left: 1px solid gray;box-sizing: border-box;top: 0;bottom: 0;left: 50%;z-index: 0;}#sk-container-id-1 div.sk-serial {display: flex;flex-direction: column;align-items: center;background-color: white;padding-right: 0.2em;padding-left: 0.2em;position: relative;}#sk-container-id-1 div.sk-item {position: relative;z-index: 1;}#sk-container-id-1 div.sk-parallel {display: flex;align-items: stretch;justify-content: center;background-color: white;position: relative;}#sk-container-id-1 div.sk-item::before, #sk-container-id-1 div.sk-parallel-item::before {content: \"\";position: absolute;border-left: 1px solid gray;box-sizing: border-box;top: 0;bottom: 0;left: 50%;z-index: -1;}#sk-container-id-1 div.sk-parallel-item {display: flex;flex-direction: column;z-index: 1;position: relative;background-color: white;}#sk-container-id-1 div.sk-parallel-item:first-child::after {align-self: flex-end;width: 50%;}#sk-container-id-1 div.sk-parallel-item:last-child::after {align-self: flex-start;width: 50%;}#sk-container-id-1 div.sk-parallel-item:only-child::after {width: 0;}#sk-container-id-1 div.sk-dashed-wrapped {border: 1px dashed gray;margin: 0 0.4em 0.5em 0.4em;box-sizing: border-box;padding-bottom: 0.4em;background-color: white;}#sk-container-id-1 div.sk-label label {font-family: monospace;font-weight: bold;display: inline-block;line-height: 1.2em;}#sk-container-id-1 div.sk-label-container {text-align: center;}#sk-container-id-1 div.sk-container {/* jupyter's `normalize.less` sets `[hidden] { display: none; }` but bootstrap.min.css set `[hidden] { display: none !important; }` so we also need the `!important` here to be able to override the default hidden behavior on the sphinx rendered scikit-learn.org. See: https://github.com/scikit-learn/scikit-learn/issues/21755 */display: inline-block !important;position: relative;}#sk-container-id-1 div.sk-text-repr-fallback {display: none;}</style><div id=\"sk-container-id-1\" class=\"sk-top-container\"><div class=\"sk-text-repr-fallback\"><pre>LogisticRegression()</pre><b>In a Jupyter environment, please rerun this cell to show the HTML representation or trust the notebook. <br />On GitHub, the HTML representation is unable to render, please try loading this page with nbviewer.org.</b></div><div class=\"sk-container\" hidden><div class=\"sk-item\"><div class=\"sk-estimator sk-toggleable\"><input class=\"sk-toggleable__control sk-hidden--visually\" id=\"sk-estimator-id-1\" type=\"checkbox\" checked><label for=\"sk-estimator-id-1\" class=\"sk-toggleable__label sk-toggleable__label-arrow\">LogisticRegression</label><div class=\"sk-toggleable__content\"><pre>LogisticRegression()</pre></div></div></div></div></div>"
      ],
      "text/plain": [
       "LogisticRegression()"
      ]
     },
     "execution_count": 22,
     "metadata": {},
     "output_type": "execute_result"
    }
   ],
   "source": [
    "#training the model overtrain set\n",
    "model.fit(train_setX,train_sety)"
   ]
  },
  {
   "cell_type": "code",
   "execution_count": 23,
   "id": "bae5653f",
   "metadata": {
    "execution": {
     "iopub.execute_input": "2023-05-17T18:26:46.929376Z",
     "iopub.status.busy": "2023-05-17T18:26:46.928118Z",
     "iopub.status.idle": "2023-05-17T18:26:46.938218Z",
     "shell.execute_reply": "2023-05-17T18:26:46.937049Z"
    },
    "papermill": {
     "duration": 0.023754,
     "end_time": "2023-05-17T18:26:46.940897",
     "exception": false,
     "start_time": "2023-05-17T18:26:46.917143",
     "status": "completed"
    },
    "tags": []
   },
   "outputs": [
    {
     "name": "stdout",
     "output_type": "stream",
     "text": [
      "0.95\n"
     ]
    }
   ],
   "source": [
    "#predicting accuracy over training data\n",
    "from sklearn.metrics import accuracy_score\n",
    "pred=model.predict(train_setX)\n",
    "accuracy=accuracy_score(pred,train_sety)\n",
    "print(accuracy)"
   ]
  },
  {
   "cell_type": "code",
   "execution_count": 24,
   "id": "fc013241",
   "metadata": {
    "execution": {
     "iopub.execute_input": "2023-05-17T18:26:46.962368Z",
     "iopub.status.busy": "2023-05-17T18:26:46.961960Z",
     "iopub.status.idle": "2023-05-17T18:26:46.970387Z",
     "shell.execute_reply": "2023-05-17T18:26:46.969649Z"
    },
    "papermill": {
     "duration": 0.021443,
     "end_time": "2023-05-17T18:26:46.972284",
     "exception": false,
     "start_time": "2023-05-17T18:26:46.950841",
     "status": "completed"
    },
    "tags": []
   },
   "outputs": [
    {
     "name": "stdout",
     "output_type": "stream",
     "text": [
      "0.9047619047619048\n"
     ]
    }
   ],
   "source": [
    "#predicting accuracy over testing data\n",
    "pred=model.predict(test_setX)\n",
    "accuracy=accuracy_score(pred,test_sety)\n",
    "print(accuracy)"
   ]
  },
  {
   "cell_type": "code",
   "execution_count": null,
   "id": "fb8d02e6",
   "metadata": {
    "papermill": {
     "duration": 0.009986,
     "end_time": "2023-05-17T18:26:46.992218",
     "exception": false,
     "start_time": "2023-05-17T18:26:46.982232",
     "status": "completed"
    },
    "tags": []
   },
   "outputs": [],
   "source": []
  }
 ],
 "metadata": {
  "kernelspec": {
   "display_name": "Python 3 (ipykernel)",
   "language": "python",
   "name": "python3"
  },
  "language_info": {
   "codemirror_mode": {
    "name": "ipython",
    "version": 3
   },
   "file_extension": ".py",
   "mimetype": "text/x-python",
   "name": "python",
   "nbconvert_exporter": "python",
   "pygments_lexer": "ipython3",
   "version": "3.10.7"
  },
  "papermill": {
   "default_parameters": {},
   "duration": 15.005019,
   "end_time": "2023-05-17T18:26:48.027799",
   "environment_variables": {},
   "exception": null,
   "input_path": "__notebook__.ipynb",
   "output_path": "__notebook__.ipynb",
   "parameters": {},
   "start_time": "2023-05-17T18:26:33.022780",
   "version": "2.4.0"
  }
 },
 "nbformat": 4,
 "nbformat_minor": 5
}
